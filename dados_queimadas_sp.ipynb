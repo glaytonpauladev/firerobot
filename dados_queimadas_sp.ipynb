{
  "cells": [
    {
      "cell_type": "markdown",
      "metadata": {
        "id": "view-in-github",
        "colab_type": "text"
      },
      "source": [
        "<a href=\"https://colab.research.google.com/github/glaytonpauladev/firerobot/blob/main/dados_queimadas_sp.ipynb\" target=\"_parent\"><img src=\"https://colab.research.google.com/assets/colab-badge.svg\" alt=\"Open In Colab\"/></a>"
      ]
    },
    {
      "cell_type": "code",
      "execution_count": null,
      "metadata": {
        "colab": {
          "background_save": true,
          "base_uri": "https://localhost:8080/"
        },
        "id": "KMixBcJJVjLv",
        "outputId": "17322f17-d73c-4e12-a44d-2d2f1fecc21a"
      },
      "outputs": [
        {
          "name": "stdout",
          "output_type": "stream",
          "text": [
            "Requirement already satisfied: geopandas in /usr/local/lib/python3.10/dist-packages (0.13.2)\n",
            "Requirement already satisfied: fiona>=1.8.19 in /usr/local/lib/python3.10/dist-packages (from geopandas) (1.9.6)\n",
            "Requirement already satisfied: packaging in /usr/local/lib/python3.10/dist-packages (from geopandas) (24.0)\n",
            "Requirement already satisfied: pandas>=1.1.0 in /usr/local/lib/python3.10/dist-packages (from geopandas) (1.5.3)\n",
            "Requirement already satisfied: pyproj>=3.0.1 in /usr/local/lib/python3.10/dist-packages (from geopandas) (3.6.1)\n",
            "Requirement already satisfied: shapely>=1.7.1 in /usr/local/lib/python3.10/dist-packages (from geopandas) (2.0.3)\n",
            "Requirement already satisfied: attrs>=19.2.0 in /usr/local/lib/python3.10/dist-packages (from fiona>=1.8.19->geopandas) (23.2.0)\n",
            "Requirement already satisfied: certifi in /usr/local/lib/python3.10/dist-packages (from fiona>=1.8.19->geopandas) (2024.2.2)\n",
            "Requirement already satisfied: click~=8.0 in /usr/local/lib/python3.10/dist-packages (from fiona>=1.8.19->geopandas) (8.1.7)\n",
            "Requirement already satisfied: click-plugins>=1.0 in /usr/local/lib/python3.10/dist-packages (from fiona>=1.8.19->geopandas) (1.1.1)\n",
            "Requirement already satisfied: cligj>=0.5 in /usr/local/lib/python3.10/dist-packages (from fiona>=1.8.19->geopandas) (0.7.2)\n",
            "Requirement already satisfied: six in /usr/local/lib/python3.10/dist-packages (from fiona>=1.8.19->geopandas) (1.16.0)\n",
            "Requirement already satisfied: python-dateutil>=2.8.1 in /usr/local/lib/python3.10/dist-packages (from pandas>=1.1.0->geopandas) (2.8.2)\n",
            "Requirement already satisfied: pytz>=2020.1 in /usr/local/lib/python3.10/dist-packages (from pandas>=1.1.0->geopandas) (2023.4)\n",
            "Requirement already satisfied: numpy>=1.21.0 in /usr/local/lib/python3.10/dist-packages (from pandas>=1.1.0->geopandas) (1.25.2)\n"
          ]
        }
      ],
      "source": [
        "# prompt: importar biblioteca geopandas\n",
        "\n",
        "!pip install geopandas\n",
        "import geopandas as gpd\n"
      ]
    },
    {
      "cell_type": "code",
      "source": [
        "gpd.show_versions()"
      ],
      "metadata": {
        "colab": {
          "base_uri": "https://localhost:8080/"
        },
        "id": "4hmhAuj3XKCY",
        "outputId": "8d8f4720-3238-462f-8f35-27b50245278f"
      },
      "execution_count": 3,
      "outputs": [
        {
          "output_type": "stream",
          "name": "stdout",
          "text": [
            "\n",
            "SYSTEM INFO\n",
            "-----------\n",
            "python     : 3.10.12 (main, Nov 20 2023, 15:14:05) [GCC 11.4.0]\n",
            "executable : /usr/bin/python3\n",
            "machine    : Linux-6.1.58+-x86_64-with-glibc2.35\n",
            "\n",
            "GEOS, GDAL, PROJ INFO\n",
            "---------------------\n",
            "GEOS       : 3.11.3\n",
            "GEOS lib   : None\n",
            "GDAL       : 3.6.4\n",
            "GDAL data dir: /usr/local/lib/python3.10/dist-packages/fiona/gdal_data\n",
            "PROJ       : 9.3.0\n",
            "PROJ data dir: /usr/local/lib/python3.10/dist-packages/pyproj/proj_dir/share/proj\n",
            "\n",
            "PYTHON DEPENDENCIES\n",
            "-------------------\n",
            "geopandas  : 0.13.2\n",
            "numpy      : 1.25.2\n",
            "pandas     : 1.5.3\n",
            "pyproj     : 3.6.1\n",
            "shapely    : 2.0.3\n",
            "fiona      : 1.9.6\n",
            "geoalchemy2: None\n",
            "geopy      : 2.3.0\n",
            "matplotlib : 3.7.1\n",
            "mapclassify: None\n",
            "pygeos     : None\n",
            "pyogrio    : None\n",
            "psycopg2   : 2.9.9 (dt dec pq3 ext lo64)\n",
            "pyarrow    : 14.0.2\n",
            "rtree      : None\n"
          ]
        }
      ]
    },
    {
      "cell_type": "code",
      "source": [],
      "metadata": {
        "id": "Valq4ihhXNLW"
      },
      "execution_count": null,
      "outputs": []
    }
  ],
  "metadata": {
    "colab": {
      "provenance": [],
      "authorship_tag": "ABX9TyOdoQi7g6+P1tl1YPOvR8Nh",
      "include_colab_link": true
    },
    "kernelspec": {
      "display_name": "Python 3",
      "name": "python3"
    },
    "language_info": {
      "name": "python"
    }
  },
  "nbformat": 4,
  "nbformat_minor": 0
}